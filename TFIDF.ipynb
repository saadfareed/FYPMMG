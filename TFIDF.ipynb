{
 "cells": [
  {
   "cell_type": "code",
   "execution_count": 1,
   "metadata": {},
   "outputs": [],
   "source": [
    "docA = \"پاکستان سے الحاق کے اعلان کے بعد ریاست جونا گڑھ سے جاری ہونے والا پوسٹل ٹکٹ (فائل فوٹو)\"\n",
    "docB = \"حکومتِ پاکستان نے گذشتہ دنوں پاکستان کا نیا ’سیاسی نقشہ‘ جاری کیا ہے جس کی رونمائی وزیر اعظم عمران خان نے خود کی ہے۔\" "
   ]
  },
  {
   "cell_type": "code",
   "execution_count": 2,
   "metadata": {},
   "outputs": [],
   "source": [
    "bowA = docA.split(\" \")\n",
    "bowB = docB.split(\" \")"
   ]
  },
  {
   "cell_type": "code",
   "execution_count": 3,
   "metadata": {},
   "outputs": [
    {
     "name": "stdout",
     "output_type": "stream",
     "text": [
      "['پاکستان', 'سے', 'الحاق', 'کے', 'اعلان', 'کے', 'بعد', 'ریاست', 'جونا', 'گڑھ', 'سے', 'جاری', 'ہونے', 'والا', 'پوسٹل', 'ٹکٹ', '(فائل', 'فوٹو)']\n",
      "['حکومتِ', 'پاکستان', 'نے', 'گذشتہ', 'دنوں', 'پاکستان', 'کا', 'نیا', '’سیاسی', 'نقشہ‘', 'جاری', 'کیا', 'ہے', 'جس', 'کی', 'رونمائی', 'وزیر', 'اعظم', 'عمران', 'خان', 'نے', 'خود', 'کی', 'ہے۔']\n"
     ]
    }
   ],
   "source": [
    "print(bowA)\n",
    "print(bowB)"
   ]
  },
  {
   "cell_type": "code",
   "execution_count": 4,
   "metadata": {},
   "outputs": [],
   "source": [
    "wordSet = set(bowA).union(set(bowB))"
   ]
  },
  {
   "cell_type": "code",
   "execution_count": 5,
   "metadata": {},
   "outputs": [
    {
     "data": {
      "text/plain": [
       "{'(فائل',\n",
       " 'اعظم',\n",
       " 'اعلان',\n",
       " 'الحاق',\n",
       " 'بعد',\n",
       " 'جاری',\n",
       " 'جس',\n",
       " 'جونا',\n",
       " 'حکومتِ',\n",
       " 'خان',\n",
       " 'خود',\n",
       " 'دنوں',\n",
       " 'رونمائی',\n",
       " 'ریاست',\n",
       " 'سے',\n",
       " 'عمران',\n",
       " 'فوٹو)',\n",
       " 'نقشہ‘',\n",
       " 'نیا',\n",
       " 'نے',\n",
       " 'والا',\n",
       " 'وزیر',\n",
       " 'ٹکٹ',\n",
       " 'پاکستان',\n",
       " 'پوسٹل',\n",
       " 'کا',\n",
       " 'کی',\n",
       " 'کیا',\n",
       " 'کے',\n",
       " 'گذشتہ',\n",
       " 'گڑھ',\n",
       " 'ہونے',\n",
       " 'ہے',\n",
       " 'ہے۔',\n",
       " '’سیاسی'}"
      ]
     },
     "execution_count": 5,
     "metadata": {},
     "output_type": "execute_result"
    }
   ],
   "source": [
    "wordSet"
   ]
  },
  {
   "cell_type": "code",
   "execution_count": 6,
   "metadata": {},
   "outputs": [],
   "source": [
    "wordDictA = dict.fromkeys(wordSet, 0) \n",
    "wordDictB = dict.fromkeys(wordSet, 0) "
   ]
  },
  {
   "cell_type": "code",
   "execution_count": 7,
   "metadata": {},
   "outputs": [
    {
     "data": {
      "text/plain": [
       "{'ہونے': 0,\n",
       " 'نے': 0,\n",
       " 'کی': 0,\n",
       " 'خود': 0,\n",
       " 'گڑھ': 0,\n",
       " 'پوسٹل': 0,\n",
       " 'اعلان': 0,\n",
       " 'ہے': 0,\n",
       " 'اعظم': 0,\n",
       " 'ریاست': 0,\n",
       " 'پاکستان': 0,\n",
       " 'جونا': 0,\n",
       " 'والا': 0,\n",
       " 'خان': 0,\n",
       " 'جس': 0,\n",
       " 'کیا': 0,\n",
       " 'کے': 0,\n",
       " 'وزیر': 0,\n",
       " 'حکومتِ': 0,\n",
       " 'فوٹو)': 0,\n",
       " 'سے': 0,\n",
       " 'ہے۔': 0,\n",
       " 'رونمائی': 0,\n",
       " 'عمران': 0,\n",
       " 'الحاق': 0,\n",
       " 'گذشتہ': 0,\n",
       " '’سیاسی': 0,\n",
       " 'نقشہ‘': 0,\n",
       " 'ٹکٹ': 0,\n",
       " 'بعد': 0,\n",
       " '(فائل': 0,\n",
       " 'دنوں': 0,\n",
       " 'کا': 0,\n",
       " 'جاری': 0,\n",
       " 'نیا': 0}"
      ]
     },
     "execution_count": 7,
     "metadata": {},
     "output_type": "execute_result"
    }
   ],
   "source": [
    "wordDictA"
   ]
  },
  {
   "cell_type": "code",
   "execution_count": 8,
   "metadata": {},
   "outputs": [],
   "source": [
    "for word in bowA:\n",
    "    wordDictA[word]+=1\n",
    "    \n",
    "for word in bowB:\n",
    "    wordDictB[word]+=1"
   ]
  },
  {
   "cell_type": "code",
   "execution_count": 9,
   "metadata": {},
   "outputs": [
    {
     "data": {
      "text/plain": [
       "{'ہونے': 1,\n",
       " 'نے': 0,\n",
       " 'کی': 0,\n",
       " 'خود': 0,\n",
       " 'گڑھ': 1,\n",
       " 'پوسٹل': 1,\n",
       " 'اعلان': 1,\n",
       " 'ہے': 0,\n",
       " 'اعظم': 0,\n",
       " 'ریاست': 1,\n",
       " 'پاکستان': 1,\n",
       " 'جونا': 1,\n",
       " 'والا': 1,\n",
       " 'خان': 0,\n",
       " 'جس': 0,\n",
       " 'کیا': 0,\n",
       " 'کے': 2,\n",
       " 'وزیر': 0,\n",
       " 'حکومتِ': 0,\n",
       " 'فوٹو)': 1,\n",
       " 'سے': 2,\n",
       " 'ہے۔': 0,\n",
       " 'رونمائی': 0,\n",
       " 'عمران': 0,\n",
       " 'الحاق': 1,\n",
       " 'گذشتہ': 0,\n",
       " '’سیاسی': 0,\n",
       " 'نقشہ‘': 0,\n",
       " 'ٹکٹ': 1,\n",
       " 'بعد': 1,\n",
       " '(فائل': 1,\n",
       " 'دنوں': 0,\n",
       " 'کا': 0,\n",
       " 'جاری': 1,\n",
       " 'نیا': 0}"
      ]
     },
     "execution_count": 9,
     "metadata": {},
     "output_type": "execute_result"
    }
   ],
   "source": [
    "wordDictA"
   ]
  },
  {
   "cell_type": "code",
   "execution_count": 10,
   "metadata": {},
   "outputs": [
    {
     "data": {
      "text/html": [
       "<div>\n",
       "<style scoped>\n",
       "    .dataframe tbody tr th:only-of-type {\n",
       "        vertical-align: middle;\n",
       "    }\n",
       "\n",
       "    .dataframe tbody tr th {\n",
       "        vertical-align: top;\n",
       "    }\n",
       "\n",
       "    .dataframe thead th {\n",
       "        text-align: right;\n",
       "    }\n",
       "</style>\n",
       "<table border=\"1\" class=\"dataframe\">\n",
       "  <thead>\n",
       "    <tr style=\"text-align: right;\">\n",
       "      <th></th>\n",
       "      <th>ہونے</th>\n",
       "      <th>نے</th>\n",
       "      <th>کی</th>\n",
       "      <th>خود</th>\n",
       "      <th>گڑھ</th>\n",
       "      <th>پوسٹل</th>\n",
       "      <th>اعلان</th>\n",
       "      <th>ہے</th>\n",
       "      <th>اعظم</th>\n",
       "      <th>ریاست</th>\n",
       "      <th>...</th>\n",
       "      <th>گذشتہ</th>\n",
       "      <th>’سیاسی</th>\n",
       "      <th>نقشہ‘</th>\n",
       "      <th>ٹکٹ</th>\n",
       "      <th>بعد</th>\n",
       "      <th>(فائل</th>\n",
       "      <th>دنوں</th>\n",
       "      <th>کا</th>\n",
       "      <th>جاری</th>\n",
       "      <th>نیا</th>\n",
       "    </tr>\n",
       "  </thead>\n",
       "  <tbody>\n",
       "    <tr>\n",
       "      <th>0</th>\n",
       "      <td>1</td>\n",
       "      <td>0</td>\n",
       "      <td>0</td>\n",
       "      <td>0</td>\n",
       "      <td>1</td>\n",
       "      <td>1</td>\n",
       "      <td>1</td>\n",
       "      <td>0</td>\n",
       "      <td>0</td>\n",
       "      <td>1</td>\n",
       "      <td>...</td>\n",
       "      <td>0</td>\n",
       "      <td>0</td>\n",
       "      <td>0</td>\n",
       "      <td>1</td>\n",
       "      <td>1</td>\n",
       "      <td>1</td>\n",
       "      <td>0</td>\n",
       "      <td>0</td>\n",
       "      <td>1</td>\n",
       "      <td>0</td>\n",
       "    </tr>\n",
       "    <tr>\n",
       "      <th>1</th>\n",
       "      <td>0</td>\n",
       "      <td>2</td>\n",
       "      <td>2</td>\n",
       "      <td>1</td>\n",
       "      <td>0</td>\n",
       "      <td>0</td>\n",
       "      <td>0</td>\n",
       "      <td>1</td>\n",
       "      <td>1</td>\n",
       "      <td>0</td>\n",
       "      <td>...</td>\n",
       "      <td>1</td>\n",
       "      <td>1</td>\n",
       "      <td>1</td>\n",
       "      <td>0</td>\n",
       "      <td>0</td>\n",
       "      <td>0</td>\n",
       "      <td>1</td>\n",
       "      <td>1</td>\n",
       "      <td>1</td>\n",
       "      <td>1</td>\n",
       "    </tr>\n",
       "  </tbody>\n",
       "</table>\n",
       "<p>2 rows × 35 columns</p>\n",
       "</div>"
      ],
      "text/plain": [
       "   ہونے  نے  کی  خود  گڑھ  پوسٹل  اعلان  ہے  اعظم  ریاست  ...  گذشتہ  ’سیاسی  \\\n",
       "0     1   0   0    0    1      1      1   0     0      1  ...      0       0   \n",
       "1     0   2   2    1    0      0      0   1     1      0  ...      1       1   \n",
       "\n",
       "   نقشہ‘  ٹکٹ  بعد  (فائل  دنوں  کا  جاری  نیا  \n",
       "0      0    1    1      1     0   0     1    0  \n",
       "1      1    0    0      0     1   1     1    1  \n",
       "\n",
       "[2 rows x 35 columns]"
      ]
     },
     "execution_count": 10,
     "metadata": {},
     "output_type": "execute_result"
    }
   ],
   "source": [
    "import pandas as pd\n",
    "pd.DataFrame([wordDictA, wordDictB])"
   ]
  },
  {
   "cell_type": "code",
   "execution_count": 11,
   "metadata": {},
   "outputs": [],
   "source": [
    "def computeTF(wordDict, bow):\n",
    "    tfDict = {}\n",
    "    bowCount = len(bow)\n",
    "    for word, count in wordDict.items():\n",
    "        tfDict[word] = count/float(bowCount)\n",
    "    return tfDict"
   ]
  },
  {
   "cell_type": "code",
   "execution_count": 12,
   "metadata": {},
   "outputs": [],
   "source": [
    "tfBowA = computeTF(wordDictA, bowA)\n",
    "tfBowB = computeTF(wordDictB, bowB)"
   ]
  },
  {
   "cell_type": "code",
   "execution_count": 13,
   "metadata": {},
   "outputs": [
    {
     "data": {
      "text/plain": [
       "{'ہونے': 0.05555555555555555,\n",
       " 'نے': 0.0,\n",
       " 'کی': 0.0,\n",
       " 'خود': 0.0,\n",
       " 'گڑھ': 0.05555555555555555,\n",
       " 'پوسٹل': 0.05555555555555555,\n",
       " 'اعلان': 0.05555555555555555,\n",
       " 'ہے': 0.0,\n",
       " 'اعظم': 0.0,\n",
       " 'ریاست': 0.05555555555555555,\n",
       " 'پاکستان': 0.05555555555555555,\n",
       " 'جونا': 0.05555555555555555,\n",
       " 'والا': 0.05555555555555555,\n",
       " 'خان': 0.0,\n",
       " 'جس': 0.0,\n",
       " 'کیا': 0.0,\n",
       " 'کے': 0.1111111111111111,\n",
       " 'وزیر': 0.0,\n",
       " 'حکومتِ': 0.0,\n",
       " 'فوٹو)': 0.05555555555555555,\n",
       " 'سے': 0.1111111111111111,\n",
       " 'ہے۔': 0.0,\n",
       " 'رونمائی': 0.0,\n",
       " 'عمران': 0.0,\n",
       " 'الحاق': 0.05555555555555555,\n",
       " 'گذشتہ': 0.0,\n",
       " '’سیاسی': 0.0,\n",
       " 'نقشہ‘': 0.0,\n",
       " 'ٹکٹ': 0.05555555555555555,\n",
       " 'بعد': 0.05555555555555555,\n",
       " '(فائل': 0.05555555555555555,\n",
       " 'دنوں': 0.0,\n",
       " 'کا': 0.0,\n",
       " 'جاری': 0.05555555555555555,\n",
       " 'نیا': 0.0}"
      ]
     },
     "execution_count": 13,
     "metadata": {},
     "output_type": "execute_result"
    }
   ],
   "source": [
    "tfBowA"
   ]
  },
  {
   "cell_type": "code",
   "execution_count": 14,
   "metadata": {},
   "outputs": [
    {
     "data": {
      "text/plain": [
       "{'ہونے': 0.0,\n",
       " 'نے': 0.08333333333333333,\n",
       " 'کی': 0.08333333333333333,\n",
       " 'خود': 0.041666666666666664,\n",
       " 'گڑھ': 0.0,\n",
       " 'پوسٹل': 0.0,\n",
       " 'اعلان': 0.0,\n",
       " 'ہے': 0.041666666666666664,\n",
       " 'اعظم': 0.041666666666666664,\n",
       " 'ریاست': 0.0,\n",
       " 'پاکستان': 0.08333333333333333,\n",
       " 'جونا': 0.0,\n",
       " 'والا': 0.0,\n",
       " 'خان': 0.041666666666666664,\n",
       " 'جس': 0.041666666666666664,\n",
       " 'کیا': 0.041666666666666664,\n",
       " 'کے': 0.0,\n",
       " 'وزیر': 0.041666666666666664,\n",
       " 'حکومتِ': 0.041666666666666664,\n",
       " 'فوٹو)': 0.0,\n",
       " 'سے': 0.0,\n",
       " 'ہے۔': 0.041666666666666664,\n",
       " 'رونمائی': 0.041666666666666664,\n",
       " 'عمران': 0.041666666666666664,\n",
       " 'الحاق': 0.0,\n",
       " 'گذشتہ': 0.041666666666666664,\n",
       " '’سیاسی': 0.041666666666666664,\n",
       " 'نقشہ‘': 0.041666666666666664,\n",
       " 'ٹکٹ': 0.0,\n",
       " 'بعد': 0.0,\n",
       " '(فائل': 0.0,\n",
       " 'دنوں': 0.041666666666666664,\n",
       " 'کا': 0.041666666666666664,\n",
       " 'جاری': 0.041666666666666664,\n",
       " 'نیا': 0.041666666666666664}"
      ]
     },
     "execution_count": 14,
     "metadata": {},
     "output_type": "execute_result"
    }
   ],
   "source": [
    "tfBowB"
   ]
  },
  {
   "cell_type": "code",
   "execution_count": 15,
   "metadata": {},
   "outputs": [],
   "source": [
    "def computeIDF(docList):\n",
    "    import math\n",
    "    idfDict = {}\n",
    "    N = len(docList)\n",
    "    \n",
    "    idfDict = dict.fromkeys(docList[0].keys(), 0)\n",
    "    for doc in docList:\n",
    "        for word, val in doc.items():\n",
    "            if val > 0:\n",
    "                idfDict[word] += 1\n",
    "    \n",
    "    for word, val in idfDict.items():\n",
    "        idfDict[word] = math.log10(N / float(val))\n",
    "        \n",
    "    return idfDict    "
   ]
  },
  {
   "cell_type": "code",
   "execution_count": 16,
   "metadata": {},
   "outputs": [],
   "source": [
    "idfs = computeIDF([wordDictA, wordDictB])"
   ]
  },
  {
   "cell_type": "code",
   "execution_count": 17,
   "metadata": {},
   "outputs": [],
   "source": [
    "def computeTFIDF(tfBow, idfs):\n",
    "    tfidf = {}\n",
    "    for word, val in tfBow.items():\n",
    "        tfidf[word] = val*idfs[word]\n",
    "    return tfidf\n",
    "    "
   ]
  },
  {
   "cell_type": "code",
   "execution_count": 18,
   "metadata": {},
   "outputs": [],
   "source": [
    "tfidfBowA = computeTFIDF(tfBowA, idfs)\n",
    "tfidfBowB = computeTFIDF(tfBowB, idfs)"
   ]
  },
  {
   "cell_type": "code",
   "execution_count": 19,
   "metadata": {},
   "outputs": [
    {
     "data": {
      "text/html": [
       "<div>\n",
       "<style scoped>\n",
       "    .dataframe tbody tr th:only-of-type {\n",
       "        vertical-align: middle;\n",
       "    }\n",
       "\n",
       "    .dataframe tbody tr th {\n",
       "        vertical-align: top;\n",
       "    }\n",
       "\n",
       "    .dataframe thead th {\n",
       "        text-align: right;\n",
       "    }\n",
       "</style>\n",
       "<table border=\"1\" class=\"dataframe\">\n",
       "  <thead>\n",
       "    <tr style=\"text-align: right;\">\n",
       "      <th></th>\n",
       "      <th>ہونے</th>\n",
       "      <th>نے</th>\n",
       "      <th>کی</th>\n",
       "      <th>خود</th>\n",
       "      <th>گڑھ</th>\n",
       "      <th>پوسٹل</th>\n",
       "      <th>اعلان</th>\n",
       "      <th>ہے</th>\n",
       "      <th>اعظم</th>\n",
       "      <th>ریاست</th>\n",
       "      <th>...</th>\n",
       "      <th>گذشتہ</th>\n",
       "      <th>’سیاسی</th>\n",
       "      <th>نقشہ‘</th>\n",
       "      <th>ٹکٹ</th>\n",
       "      <th>بعد</th>\n",
       "      <th>(فائل</th>\n",
       "      <th>دنوں</th>\n",
       "      <th>کا</th>\n",
       "      <th>جاری</th>\n",
       "      <th>نیا</th>\n",
       "    </tr>\n",
       "  </thead>\n",
       "  <tbody>\n",
       "    <tr>\n",
       "      <th>0</th>\n",
       "      <td>0.016724</td>\n",
       "      <td>0.000000</td>\n",
       "      <td>0.000000</td>\n",
       "      <td>0.000000</td>\n",
       "      <td>0.016724</td>\n",
       "      <td>0.016724</td>\n",
       "      <td>0.016724</td>\n",
       "      <td>0.000000</td>\n",
       "      <td>0.000000</td>\n",
       "      <td>0.016724</td>\n",
       "      <td>...</td>\n",
       "      <td>0.000000</td>\n",
       "      <td>0.000000</td>\n",
       "      <td>0.000000</td>\n",
       "      <td>0.016724</td>\n",
       "      <td>0.016724</td>\n",
       "      <td>0.016724</td>\n",
       "      <td>0.000000</td>\n",
       "      <td>0.000000</td>\n",
       "      <td>0.0</td>\n",
       "      <td>0.000000</td>\n",
       "    </tr>\n",
       "    <tr>\n",
       "      <th>1</th>\n",
       "      <td>0.000000</td>\n",
       "      <td>0.025086</td>\n",
       "      <td>0.025086</td>\n",
       "      <td>0.012543</td>\n",
       "      <td>0.000000</td>\n",
       "      <td>0.000000</td>\n",
       "      <td>0.000000</td>\n",
       "      <td>0.012543</td>\n",
       "      <td>0.012543</td>\n",
       "      <td>0.000000</td>\n",
       "      <td>...</td>\n",
       "      <td>0.012543</td>\n",
       "      <td>0.012543</td>\n",
       "      <td>0.012543</td>\n",
       "      <td>0.000000</td>\n",
       "      <td>0.000000</td>\n",
       "      <td>0.000000</td>\n",
       "      <td>0.012543</td>\n",
       "      <td>0.012543</td>\n",
       "      <td>0.0</td>\n",
       "      <td>0.012543</td>\n",
       "    </tr>\n",
       "  </tbody>\n",
       "</table>\n",
       "<p>2 rows × 35 columns</p>\n",
       "</div>"
      ],
      "text/plain": [
       "       ہونے        نے        کی       خود       گڑھ     پوسٹل     اعلان  \\\n",
       "0  0.016724  0.000000  0.000000  0.000000  0.016724  0.016724  0.016724   \n",
       "1  0.000000  0.025086  0.025086  0.012543  0.000000  0.000000  0.000000   \n",
       "\n",
       "         ہے      اعظم     ریاست  ...     گذشتہ    ’سیاسی     نقشہ‘       ٹکٹ  \\\n",
       "0  0.000000  0.000000  0.016724  ...  0.000000  0.000000  0.000000  0.016724   \n",
       "1  0.012543  0.012543  0.000000  ...  0.012543  0.012543  0.012543  0.000000   \n",
       "\n",
       "        بعد     (فائل      دنوں        کا  جاری       نیا  \n",
       "0  0.016724  0.016724  0.000000  0.000000   0.0  0.000000  \n",
       "1  0.000000  0.000000  0.012543  0.012543   0.0  0.012543  \n",
       "\n",
       "[2 rows x 35 columns]"
      ]
     },
     "execution_count": 19,
     "metadata": {},
     "output_type": "execute_result"
    }
   ],
   "source": [
    "import pandas as pd\n",
    "pd.DataFrame([tfidfBowA, tfidfBowB])"
   ]
  },
  {
   "cell_type": "code",
   "execution_count": null,
   "metadata": {},
   "outputs": [],
   "source": []
  }
 ],
 "metadata": {
  "interpreter": {
   "hash": "916dbcbb3f70747c44a77c7bcd40155683ae19c65e1c03b4aa3499c5328201f1"
  },
  "kernelspec": {
   "display_name": "Python 3",
   "language": "python",
   "name": "python3"
  },
  "language_info": {
   "codemirror_mode": {
    "name": "ipython",
    "version": 3
   },
   "file_extension": ".py",
   "mimetype": "text/x-python",
   "name": "python",
   "nbconvert_exporter": "python",
   "pygments_lexer": "ipython3",
   "version": "3.7.6"
  }
 },
 "nbformat": 4,
 "nbformat_minor": 2
}
